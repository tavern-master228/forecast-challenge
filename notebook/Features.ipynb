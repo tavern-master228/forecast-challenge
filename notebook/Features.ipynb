{
 "cells": [
  {
   "cell_type": "code",
   "execution_count": 2,
   "metadata": {},
   "outputs": [],
   "source": [
    "import pandas as pd\n",
    "import numpy as np\n",
    "import datetime as dt"
   ]
  },
  {
   "cell_type": "code",
   "execution_count": 154,
   "metadata": {},
   "outputs": [],
   "source": [
    "t = np.arange(dt.datetime(2018,1,1), dt.datetime(2018,4,1), dt.timedelta(days=7)).astype(dt.datetime)"
   ]
  },
  {
   "cell_type": "code",
   "execution_count": 155,
   "metadata": {},
   "outputs": [
    {
     "data": {
      "text/plain": [
       "13"
      ]
     },
     "execution_count": 155,
     "metadata": {},
     "output_type": "execute_result"
    }
   ],
   "source": [
    "len(t)"
   ]
  },
  {
   "cell_type": "code",
   "execution_count": 156,
   "metadata": {},
   "outputs": [
    {
     "name": "stdout",
     "output_type": "stream",
     "text": [
      "[[659100.10348385]\n",
      " [774087.47889865]\n",
      " [532214.86904337]\n",
      " [274934.98045021]\n",
      " [787956.67331519]\n",
      " [600578.78641532]\n",
      " [519237.25146666]\n",
      " [573516.56638925]\n",
      " [944172.03829659]\n",
      " [354970.96073538]\n",
      " [368002.42703362]\n",
      " [605752.23206987]\n",
      " [255061.39075073]]\n"
     ]
    }
   ],
   "source": [
    "forecast = np.random.rand(13,1)\n",
    "forecast = forecast*1000000\n",
    "print(forecast)"
   ]
  },
  {
   "cell_type": "code",
   "execution_count": 157,
   "metadata": {},
   "outputs": [],
   "source": [
    "df = pd.DataFrame(forecast, index=t, columns=['forecast'])"
   ]
  },
  {
   "cell_type": "code",
   "execution_count": 28,
   "metadata": {},
   "outputs": [],
   "source": [
    "df.index = pd.DatetimeIndex(df.index).to_period('W')"
   ]
  },
  {
   "cell_type": "code",
   "execution_count": 158,
   "metadata": {},
   "outputs": [
    {
     "data": {
      "text/plain": [
       "2018-01-01    659100.103484\n",
       "2018-01-08    774087.478899\n",
       "2018-01-15    532214.869043\n",
       "2018-01-22    274934.980450\n",
       "2018-01-29    787956.673315\n",
       "2018-02-05    600578.786415\n",
       "2018-02-12    519237.251467\n",
       "2018-02-19    573516.566389\n",
       "2018-02-26    944172.038297\n",
       "2018-03-05    354970.960735\n",
       "2018-03-12    368002.427034\n",
       "2018-03-19    605752.232070\n",
       "2018-03-26    255061.390751\n",
       "Name: forecast, dtype: float64"
      ]
     },
     "execution_count": 158,
     "metadata": {},
     "output_type": "execute_result"
    }
   ],
   "source": [
    "df.forecast"
   ]
  },
  {
   "cell_type": "code",
   "execution_count": 125,
   "metadata": {},
   "outputs": [
    {
     "name": "stdout",
     "output_type": "stream",
     "text": [
      "<class 'pandas.core.series.Series'>\n"
     ]
    }
   ],
   "source": [
    "ser = df.index.to_series()\n",
    "serf = df.forecast\n",
    "len(ser.dt.week)\n",
    "print(type(serf))"
   ]
  },
  {
   "cell_type": "code",
   "execution_count": 137,
   "metadata": {},
   "outputs": [
    {
     "data": {
      "text/plain": [
       "Int64Index([1, 2, 3, 4, 5, 6, 7, 8, 9, 10, 11, 12, 13], dtype='int64')"
      ]
     },
     "execution_count": 137,
     "metadata": {},
     "output_type": "execute_result"
    }
   ],
   "source": [
    "df.forecast.index.week"
   ]
  },
  {
   "cell_type": "code",
   "execution_count": 140,
   "metadata": {},
   "outputs": [
    {
     "data": {
      "text/plain": [
       "array([387594.06187717, 908136.81418776, 350187.36489271, 640496.72989506,\n",
       "       873714.15130662, 882438.9314872 , 326812.42071047, 690641.29668843,\n",
       "       694035.28338526, 166365.27081169, 359727.82062607, 687994.85567076,\n",
       "       715261.35412995])"
      ]
     },
     "execution_count": 140,
     "metadata": {},
     "output_type": "execute_result"
    }
   ],
   "source": [
    "serf.values"
   ]
  },
  {
   "cell_type": "code",
   "execution_count": 147,
   "metadata": {},
   "outputs": [],
   "source": []
  },
  {
   "cell_type": "code",
   "execution_count": 160,
   "metadata": {},
   "outputs": [
    {
     "name": "stdout",
     "output_type": "stream",
     "text": [
      "13\n",
      "13\n",
      "13\n"
     ]
    },
    {
     "data": {
      "text/html": [
       "<div>\n",
       "<style scoped>\n",
       "    .dataframe tbody tr th:only-of-type {\n",
       "        vertical-align: middle;\n",
       "    }\n",
       "\n",
       "    .dataframe tbody tr th {\n",
       "        vertical-align: top;\n",
       "    }\n",
       "\n",
       "    .dataframe thead th {\n",
       "        text-align: right;\n",
       "    }\n",
       "</style>\n",
       "<table border=\"1\" class=\"dataframe\">\n",
       "  <thead>\n",
       "    <tr style=\"text-align: right;\">\n",
       "      <th></th>\n",
       "      <th>Product</th>\n",
       "      <th>Week</th>\n",
       "      <th>Units</th>\n",
       "    </tr>\n",
       "  </thead>\n",
       "  <tbody>\n",
       "    <tr>\n",
       "      <th>0</th>\n",
       "      <td>Product_19</td>\n",
       "      <td>1</td>\n",
       "      <td>659100.103484</td>\n",
       "    </tr>\n",
       "    <tr>\n",
       "      <th>1</th>\n",
       "      <td>Product_19</td>\n",
       "      <td>2</td>\n",
       "      <td>774087.478899</td>\n",
       "    </tr>\n",
       "    <tr>\n",
       "      <th>2</th>\n",
       "      <td>Product_19</td>\n",
       "      <td>3</td>\n",
       "      <td>532214.869043</td>\n",
       "    </tr>\n",
       "    <tr>\n",
       "      <th>3</th>\n",
       "      <td>Product_19</td>\n",
       "      <td>4</td>\n",
       "      <td>274934.980450</td>\n",
       "    </tr>\n",
       "    <tr>\n",
       "      <th>4</th>\n",
       "      <td>Product_19</td>\n",
       "      <td>5</td>\n",
       "      <td>787956.673315</td>\n",
       "    </tr>\n",
       "    <tr>\n",
       "      <th>5</th>\n",
       "      <td>Product_19</td>\n",
       "      <td>6</td>\n",
       "      <td>600578.786415</td>\n",
       "    </tr>\n",
       "    <tr>\n",
       "      <th>6</th>\n",
       "      <td>Product_19</td>\n",
       "      <td>7</td>\n",
       "      <td>519237.251467</td>\n",
       "    </tr>\n",
       "    <tr>\n",
       "      <th>7</th>\n",
       "      <td>Product_19</td>\n",
       "      <td>8</td>\n",
       "      <td>573516.566389</td>\n",
       "    </tr>\n",
       "    <tr>\n",
       "      <th>8</th>\n",
       "      <td>Product_19</td>\n",
       "      <td>9</td>\n",
       "      <td>944172.038297</td>\n",
       "    </tr>\n",
       "    <tr>\n",
       "      <th>9</th>\n",
       "      <td>Product_19</td>\n",
       "      <td>10</td>\n",
       "      <td>354970.960735</td>\n",
       "    </tr>\n",
       "    <tr>\n",
       "      <th>10</th>\n",
       "      <td>Product_19</td>\n",
       "      <td>11</td>\n",
       "      <td>368002.427034</td>\n",
       "    </tr>\n",
       "    <tr>\n",
       "      <th>11</th>\n",
       "      <td>Product_19</td>\n",
       "      <td>12</td>\n",
       "      <td>605752.232070</td>\n",
       "    </tr>\n",
       "    <tr>\n",
       "      <th>12</th>\n",
       "      <td>Product_19</td>\n",
       "      <td>13</td>\n",
       "      <td>255061.390751</td>\n",
       "    </tr>\n",
       "  </tbody>\n",
       "</table>\n",
       "</div>"
      ],
      "text/plain": [
       "       Product  Week          Units\n",
       "0   Product_19     1  659100.103484\n",
       "1   Product_19     2  774087.478899\n",
       "2   Product_19     3  532214.869043\n",
       "3   Product_19     4  274934.980450\n",
       "4   Product_19     5  787956.673315\n",
       "5   Product_19     6  600578.786415\n",
       "6   Product_19     7  519237.251467\n",
       "7   Product_19     8  573516.566389\n",
       "8   Product_19     9  944172.038297\n",
       "9   Product_19    10  354970.960735\n",
       "10  Product_19    11  368002.427034\n",
       "11  Product_19    12  605752.232070\n",
       "12  Product_19    13  255061.390751"
      ]
     },
     "execution_count": 160,
     "metadata": {},
     "output_type": "execute_result"
    }
   ],
   "source": [
    "_create_output(df.forecast, \"Product_19\")"
   ]
  },
  {
   "cell_type": "code",
   "execution_count": null,
   "metadata": {},
   "outputs": [],
   "source": [
    "[df1, df2, df3]"
   ]
  },
  {
   "cell_type": "code",
   "execution_count": 152,
   "metadata": {},
   "outputs": [
    {
     "data": {
      "text/plain": [
       "pandas.core.indexes.period.PeriodIndex"
      ]
     },
     "execution_count": 152,
     "metadata": {},
     "output_type": "execute_result"
    }
   ],
   "source": [
    "type(df.forecast.index)"
   ]
  },
  {
   "cell_type": "code",
   "execution_count": 159,
   "metadata": {},
   "outputs": [],
   "source": [
    "def _create_output(series, product:str):\n",
    "    '''\n",
    "    Input series format: index is equalt to dates (datetime format); one column with floats\n",
    "    Output df format: product 19-, week 1-13, units (forecast)\n",
    "    '''\n",
    "    weeks = series.index.week\n",
    "    print(len(weeks))\n",
    "    product_ = pd.Series([product]*len(weeks))\n",
    "    print(len(product_))\n",
    "    print(len(series.values))\n",
    "    data = {'Product': product_, 'Week': weeks, 'Units': series.values}\n",
    "    return pd.DataFrame(data, columns=data.keys())\n",
    "\n",
    "\n",
    "def save_forecast(arr_of_dfs, filename='FORECAST_2018_Q1.xlsx'):\n",
    "    # save in a directory \n",
    "    import os\n",
    "    DIR = os.getcwd()\n",
    "    if not os.path.exists(DIR):\n",
    "        print(\"PROVIDE PATH TO FILE MANUALLY\")\n",
    "    FILE_NAME = filename\n",
    "    PATH = os.path.join(DIR, FILE_NAME)\n",
    "    \n",
    "    # saving\n",
    "    RES = pd.concat(arr_of_dfs, axis=0)\n",
    "    RES.to_excel('FORECAST_2018_Q1.xlsx')\n",
    "    print(f'SUCCESSFULLY SAVED IN {PATH}')"
   ]
  },
  {
   "cell_type": "code",
   "execution_count": null,
   "metadata": {},
   "outputs": [],
   "source": []
  }
 ],
 "metadata": {
  "kernelspec": {
   "display_name": "Python 3",
   "language": "python",
   "name": "python3"
  },
  "language_info": {
   "codemirror_mode": {
    "name": "ipython",
    "version": 3
   },
   "file_extension": ".py",
   "mimetype": "text/x-python",
   "name": "python",
   "nbconvert_exporter": "python",
   "pygments_lexer": "ipython3",
   "version": "3.7.6"
  },
  "varInspector": {
   "cols": {
    "lenName": 16,
    "lenType": 16,
    "lenVar": 40
   },
   "kernels_config": {
    "python": {
     "delete_cmd_postfix": "",
     "delete_cmd_prefix": "del ",
     "library": "var_list.py",
     "varRefreshCmd": "print(var_dic_list())"
    },
    "r": {
     "delete_cmd_postfix": ") ",
     "delete_cmd_prefix": "rm(",
     "library": "var_list.r",
     "varRefreshCmd": "cat(var_dic_list()) "
    }
   },
   "types_to_exclude": [
    "module",
    "function",
    "builtin_function_or_method",
    "instance",
    "_Feature"
   ],
   "window_display": false
  }
 },
 "nbformat": 4,
 "nbformat_minor": 4
}
